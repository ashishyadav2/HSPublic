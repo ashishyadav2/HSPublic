{
 "cells": [
  {
   "cell_type": "markdown",
   "id": "a36e21b1",
   "metadata": {},
   "source": [
    "# Version 1"
   ]
  },
  {
   "cell_type": "code",
   "execution_count": 16,
   "id": "a659ec33",
   "metadata": {},
   "outputs": [
    {
     "name": "stdout",
     "output_type": "stream",
     "text": [
      "Enter cap of jug 1: 56\n",
      "Enter cap of jug 2: 69\n",
      "Enter IS of jug 1: 0\n",
      "Enter IS of jug 2: 0\n",
      "Enter FS of jug 1: 53\n",
      "Enter FS of jug 2: 69\n",
      "Steps: \n",
      "[[0, 0], (56, 0), (56, 69), (0, 69), (56, 13), (0, 13), (13, 0), (13, 69), (56, 26), (0, 26), (26, 0), (26, 69), (56, 39), (0, 39), (39, 0), (39, 69), (56, 52), (0, 52), (52, 0), (52, 69), (56, 65), (0, 65), (56, 9), (0, 9), (9, 0), (9, 69), (56, 22), (0, 22), (22, 0), (22, 69), (56, 35), (0, 35), (35, 0), (35, 69), (56, 48), (0, 48), (48, 0), (48, 69), (56, 61), (0, 61), (56, 5), (0, 5), (5, 0), (5, 69), (56, 18), (0, 18), (18, 0), (18, 69), (56, 31), (0, 31), (31, 0), (31, 69), (56, 44), (0, 44), (44, 0), (44, 69), (56, 57), (0, 57), (56, 1), (0, 1), (1, 0), (1, 69), (56, 14), (0, 14), (14, 0), (14, 69), (56, 27), (0, 27), (27, 0), (27, 69), (56, 40), (0, 40), (40, 0), (40, 69), (56, 53), (0, 53), (53, 0), (53, 69)]\n",
      "Number of steps: \n",
      "78\n"
     ]
    }
   ],
   "source": [
    "def pour(x, y, C1, C2):\n",
    "    if x+y>=C1:\n",
    "        return(C1,y-(C1-x))\n",
    "    else:\n",
    "        return(x+y,0)\n",
    "    \n",
    "\n",
    "def dfs(x, y, goal, C1, C2, path, visited, counter):\n",
    "    counter+=1\n",
    "    if x == goal[0] and y == goal[1]:\n",
    "        return path,counter\n",
    "    \n",
    "    if(x,y) in visited:\n",
    "        return None\n",
    "    \n",
    "    visited.add((x,y))\n",
    "\n",
    "    states=[\n",
    "        (C1,y),\n",
    "        (x,C2),\n",
    "        (0,y),\n",
    "        (x,0),\n",
    "        pour(x,y,C1,C2),\n",
    "        pour(y,x,C2,C1)\n",
    "        ]\n",
    "    \n",
    "    for state in states:\n",
    "        result=dfs(state[0], state[1], goal, C1, C2, path+[state], visited, counter)\n",
    "        if result is not None:\n",
    "            return result\n",
    "        \n",
    "C1=int(input(\"Enter cap of jug 1: \"))\n",
    "C2=int(input(\"Enter cap of jug 2: \"))\n",
    "\n",
    "initial=[]\n",
    "I1=int(input(\"Enter IS of jug 1: \"))\n",
    "I2=int(input(\"Enter IS of jug 2: \"))\n",
    "initial.append(I1)\n",
    "initial.append(I2)\n",
    "\n",
    "goal=[]\n",
    "F1=int(input(\"Enter FS of jug 1: \"))\n",
    "F2=int(input(\"Enter FS of jug 2: \"))\n",
    "goal.append(F1)\n",
    "goal.append(F2)\n",
    "\n",
    "cu=0\n",
    "print(\"Steps: \")\n",
    "print(dfs(initial[0],initial[1],goal,C1,C2,[initial],set(),cu)[0])\n",
    "print(\"Number of steps: \")\n",
    "print(dfs(initial[0],initial[1],goal,C1,C2,[initial],set(),cu)[1])"
   ]
  },
  {
   "cell_type": "markdown",
   "id": "2c26ddd9",
   "metadata": {},
   "source": [
    "# Version 2"
   ]
  },
  {
   "cell_type": "code",
   "execution_count": 17,
   "id": "5b81320f",
   "metadata": {},
   "outputs": [
    {
     "name": "stdout",
     "output_type": "stream",
     "text": [
      "Enter max capacity of jug1 jug2: 4 3\n",
      "Enter initial capacity of jug1 jug2: 0 0\n",
      "Enter goal capacity of jug1 jug2: 0 2\n",
      "Steps: \n",
      "[(0, 0), (4, 0), (4, 3), (0, 3), (3, 0), (3, 3), (4, 2), (0, 2)]\n",
      "Number of steps: \n",
      "8\n"
     ]
    }
   ],
   "source": [
    "def pour(x,y,max1,max2):\n",
    "    if x+y>=max1:\n",
    "        return (max1,y-(max1-x))\n",
    "    return (x+y,0)\n",
    "\n",
    "def dfs(x,y,g1,g2,m1,m2,path,visited,count):\n",
    "    count += 1\n",
    "    if x == g1 and y == g2:\n",
    "        return path,count\n",
    "    if (x,y) in visited:\n",
    "        return None\n",
    "    visited.add((x,y))\n",
    "    states = [\n",
    "        (m1,y),\n",
    "        (x,m2),\n",
    "        (0,y),\n",
    "        (x,0),\n",
    "        pour(x,y,m1,m2),\n",
    "        pour(x,y,m2,m1)\n",
    "    ]\n",
    "    for state in states:\n",
    "        result = dfs(state[0],state[1],g1,g2,m1,m2,path+[state],visited,count)\n",
    "        if result:\n",
    "            return result\n",
    "        \n",
    "max1, max2 = map(int,input(\"Enter max capacity of jug1 jug2: \").split())\n",
    "init1, init2 = map(int, input(\"Enter initial capacity of jug1 jug2: \").split())\n",
    "fin1, fin2 = map(int,input(\"Enter goal capacity of jug1 jug2: \").split())\n",
    "count = 0\n",
    "print(\"Steps: \")\n",
    "print(dfs(init1,init2,fin1,fin2,max1,max2,[(init1,init2)],set(),count)[0])\n",
    "print(\"Number of steps: \")\n",
    "print(dfs(init1,init2,fin1,fin2,max1,max2,[(init1,init2)],set(),count)[1])"
   ]
  },
  {
   "cell_type": "markdown",
   "id": "7e29e672",
   "metadata": {},
   "source": [
    "# Practice"
   ]
  },
  {
   "cell_type": "code",
   "execution_count": 20,
   "id": "69ec731d",
   "metadata": {},
   "outputs": [
    {
     "name": "stdout",
     "output_type": "stream",
     "text": [
      "Maxiimum Capacity of Jug1 Jug2: 4 3\n",
      "Initial Capacity of Jug1 Jug2: 0 0\n",
      "Goal Capacity of Jug1 Jug2: 0 2\n",
      "Steps:\n",
      "[(0, 0), (4, 0), (4, 3), (0, 3), (3, 0), (3, 3), (4, 2), (0, 2)]\n",
      "Number of steps: \n",
      "8\n"
     ]
    }
   ],
   "source": [
    "def pour(x,y,m1,m2):\n",
    "    if x+y>=m1:\n",
    "        return (m1,y-(m1-x))\n",
    "    return (x+y,0)\n",
    "def dfs(x,y,g1,g2,m1,m2,path,visited,count):\n",
    "    count+=1\n",
    "    if x == g1 and y == g2:\n",
    "        return path,count\n",
    "    if (x,y) in visited:\n",
    "        return None\n",
    "    visited.add((x,y))\n",
    "    states = [\n",
    "        (m1,y),\n",
    "        (x,m2),\n",
    "        (0,y),\n",
    "        (x,0),\n",
    "        pour(x,y,m1,m2),\n",
    "        pour(x,y,m2,m1)\n",
    "    ]\n",
    "    for state in states:\n",
    "        result = dfs(state[0],state[1],g1,g2,m1,m2,path+[state],visited,count)\n",
    "        if result:\n",
    "            return result\n",
    "max1, max2 = map(int, input(\"Maxiimum Capacity of Jug1 Jug2: \").split())\n",
    "init1, init2 = map(int, input(\"Initial Capacity of Jug1 Jug2: \").split())\n",
    "fin1, fin2 = map(int, input(\"Goal Capacity of Jug1 Jug2: \").split())\n",
    "print(\"Steps:\")\n",
    "print(dfs(init1,init2,fin1,fin2,max1,max2,[(init1,init2)],set(),0)[0])\n",
    "print(\"Number of steps: \")\n",
    "print(dfs(init1,init2,fin1,fin2,max1,max2,[(init1,init2)],set(),0)[1])"
   ]
  },
  {
   "cell_type": "code",
   "execution_count": null,
   "id": "b7b8a580",
   "metadata": {},
   "outputs": [],
   "source": []
  }
 ],
 "metadata": {
  "kernelspec": {
   "display_name": "Python 3 (ipykernel)",
   "language": "python",
   "name": "python3"
  },
  "language_info": {
   "codemirror_mode": {
    "name": "ipython",
    "version": 3
   },
   "file_extension": ".py",
   "mimetype": "text/x-python",
   "name": "python",
   "nbconvert_exporter": "python",
   "pygments_lexer": "ipython3",
   "version": "3.10.2"
  }
 },
 "nbformat": 4,
 "nbformat_minor": 5
}
