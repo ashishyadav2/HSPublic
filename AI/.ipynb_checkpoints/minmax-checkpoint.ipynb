{
 "cells": [
  {
   "cell_type": "markdown",
   "id": "6ffacbd3",
   "metadata": {},
   "source": [
    "# Min Max Algorithm"
   ]
  },
  {
   "cell_type": "code",
   "execution_count": 2,
   "id": "5d923800",
   "metadata": {},
   "outputs": [
    {
     "name": "stdout",
     "output_type": "stream",
     "text": [
      "Enter number of elements : 8\n",
      "Enter numbers in array : 2 5 6 84 3 4 2 4\n",
      "optimal value :  5\n"
     ]
    }
   ],
   "source": [
    "import math\n",
    "\n",
    "def minmax(curDepth,nodeIndex,maxTurn,scores,targetDepth):\n",
    "    if(curDepth==targetDepth):\n",
    "        return scores[nodeIndex]\n",
    "    if(maxTurn):\n",
    "        return max(minmax(curDepth+1,nodeIndex*2,False,scores,targetDepth),\n",
    "                   minmax(curDepth+1,nodeIndex*2+1,False,scores,targetDepth))\n",
    "    else : \n",
    "        return min(minmax(curDepth+1,nodeIndex*2,True,scores,targetDepth),\n",
    "                   minmax(curDepth+1,nodeIndex*2+1,True,scores,targetDepth))\n",
    "\n",
    "a=int(input(\"Enter number of elements : \"))\n",
    "scores=list(map(int,input(\"Enter numbers in array : \").split()))\n",
    "treeDepth=math.log(len(scores),2)\n",
    "print(\"optimal value : \",minmax(0,0,True,scores,treeDepth))"
   ]
  },
  {
   "cell_type": "markdown",
   "id": "43f2e911",
   "metadata": {},
   "source": [
    "# Practice"
   ]
  },
  {
   "cell_type": "code",
   "execution_count": 4,
   "id": "1b687529",
   "metadata": {},
   "outputs": [
    {
     "name": "stdout",
     "output_type": "stream",
     "text": [
      "Number of elements8\n",
      "Enter elements2 5 6 84 3 4 2 4\n",
      "Optimal value:  5\n"
     ]
    }
   ],
   "source": [
    "import math\n",
    "def minmax(currdepth,nodeindex,ismaxturn,scores,target):\n",
    "    if currdepth == target:\n",
    "        return scores[nodeindex]\n",
    "    if ismaxturn:\n",
    "        return max(minmax(currdepth+1,nodeindex*2,False,scores,target),minmax(currdepth+1,nodeindex*2+1,False,scores,target))\n",
    "    return min(minmax(currdepth+1,nodeindex*2,True,scores,target),minmax(currdepth+1,nodeindex*2+1,True,scores,target))\n",
    "\n",
    "n = int(input(\"Number of elements\"))\n",
    "scores = list(map(int,input(\"Enter elements\").split()))\n",
    "depth = math.log(n,2)\n",
    "print(\"Optimal value: \",minmax(0,0,True,scores,depth))"
   ]
  },
  {
   "cell_type": "code",
   "execution_count": null,
   "id": "7fc1c09e",
   "metadata": {},
   "outputs": [],
   "source": []
  }
 ],
 "metadata": {
  "kernelspec": {
   "display_name": "Python 3 (ipykernel)",
   "language": "python",
   "name": "python3"
  },
  "language_info": {
   "codemirror_mode": {
    "name": "ipython",
    "version": 3
   },
   "file_extension": ".py",
   "mimetype": "text/x-python",
   "name": "python",
   "nbconvert_exporter": "python",
   "pygments_lexer": "ipython3",
   "version": "3.10.2"
  }
 },
 "nbformat": 4,
 "nbformat_minor": 5
}
