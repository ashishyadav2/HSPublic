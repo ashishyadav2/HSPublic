{
 "cells": [
  {
   "cell_type": "markdown",
   "id": "09776dcd",
   "metadata": {},
   "source": [
    "# Lexical Analyzer"
   ]
  },
  {
   "cell_type": "code",
   "execution_count": 9,
   "id": "244c921f",
   "metadata": {},
   "outputs": [
    {
     "name": "stdout",
     "output_type": "stream",
     "text": [
      "['#include', '<stdio.h>', 'int', 'main()', '{', 'int', 'a', '=', '2', ';', 'printf(\"Hello,', 'World!\");', 'return', '0;', '}']\n",
      "Header File --> #include\n",
      "Keyword --> int\n",
      "Built_in Function --> main()\n",
      "Separator --> {\n",
      "Keyword --> int\n",
      "Identifier -->  a\n",
      "Numerals -->  2\n",
      "Separator --> ;\n",
      "Keyword --> return\n",
      "Separator --> }\n"
     ]
    }
   ],
   "source": [
    "import re\n",
    "\n",
    "keyword = ['int','float','return','void']\n",
    "built_in_functions = ['clrscr()','printf(','scanf(','getch()','main()']\n",
    "operators = ['+','-','*','/','%']\n",
    "specialsymbol = ['#','$','!']\n",
    "separator = [',',':',';','\\n','\\t','{','}','(',')','[',']']\n",
    "\n",
    "file = open('lexical.txt','r')\n",
    "contents = file.read()\n",
    "splitCode = contents.split() \n",
    "print(splitCode)\n",
    "length = len(splitCode)\n",
    "      \n",
    "for i in range(length):\n",
    "    if splitCode[i] in keyword:\n",
    "        print(\"Keyword -->\",splitCode[i])\n",
    "        continue\n",
    "    if splitCode[i] in operators:\n",
    "        print(\"Operators --> \",splitCode[i])\n",
    "        continue\n",
    "    if splitCode[i] in specialsymbol:\n",
    "        print(\"Special Operator -->\",splitCode[i])\n",
    "        continue\n",
    "    if splitCode[i] in built_in_functions:\n",
    "        print(\"Built_in Function -->\",splitCode[i])\n",
    "        continue\n",
    "    if splitCode[i] in separator:\n",
    "        print(\"Separator -->\",splitCode[i])\n",
    "        continue\n",
    "    if re.match(r'(#include*).*', splitCode[i]):\n",
    "        print (\"Header File -->\", splitCode[i])\n",
    "        continue\n",
    "    if re.match(r'^[-+]?[0-9]+$',splitCode[i]):\n",
    "        print(\"Numerals --> \",splitCode[i])\n",
    "        continue\n",
    "    if re.match(r\"^[^\\d\\W]\\w*\\Z\", splitCode[i]):\n",
    "        print(\"Identifier --> \",splitCode[i])\n",
    "        \n",
    "        "
   ]
  },
  {
   "cell_type": "markdown",
   "id": "2ce30352",
   "metadata": {},
   "source": [
    "# Practice"
   ]
  },
  {
   "cell_type": "code",
   "execution_count": 11,
   "id": "6168acc2",
   "metadata": {},
   "outputs": [
    {
     "name": "stdout",
     "output_type": "stream",
     "text": [
      "Header: #include<stdio.h>\n",
      "Keyword: int\n",
      "Built in functions: main()\n",
      "Separators: {\n",
      "Keyword: int\n",
      "Operators: =\n",
      "Numerals: 2\n",
      "Separators: ;\n",
      "Built in functions: printf(\n",
      "Separators: \"\n",
      "Separators: ;\n",
      "Keyword: return\n",
      "Numerals: 0\n",
      "Separators: ;\n",
      "Separators: }\n"
     ]
    }
   ],
   "source": [
    "import re\n",
    "keywords = [\"return\",\"int\"]\n",
    "built_in_functions = [\"main()\",\"printf(\",\"scanf(\",\"clrscr()\"]\n",
    "operators = ['+','-','*','/','=']\n",
    "symbols = ['!','#','@','$']\n",
    "separators = ['{','}','[',']',\";\",',',\"'\",'\"']\n",
    "\n",
    "file = open(\"lex.txt\",\"r\")\n",
    "txt = file.read().split()\n",
    "lenn = len(txt)\n",
    "for elem in txt:\n",
    "    if elem in keywords:\n",
    "        print(\"Keyword: {}\".format(elem))\n",
    "        continue\n",
    "    if elem in built_in_functions:\n",
    "        print(\"Built in functions: {}\".format(elem))\n",
    "        continue\n",
    "    if elem in operators:\n",
    "        print(\"Operators: {}\".format(elem))\n",
    "        continue\n",
    "    if elem in symbols:\n",
    "        print(\"Symbols: {}\".format(elem))\n",
    "        continue\n",
    "    if elem in separators:\n",
    "        print(\"Separators: {}\".format(elem))\n",
    "        continue\n",
    "    if re.match(r\"^[-+]?[0-9]+$\",elem):\n",
    "        print(\"Numerals: {}\".format(elem))\n",
    "        continue        \n",
    "    if re.match(r\"^[\\d\\W]\\w*\\Z\",elem):\n",
    "        print(\"Identifiers: {}\".format(elem))\n",
    "        continue        \n",
    "    if re.match(r\"(#include*).*\",elem):\n",
    "        print(\"Header: {}\".format(elem))\n",
    "        continue"
   ]
  },
  {
   "cell_type": "code",
   "execution_count": null,
   "id": "1599959b",
   "metadata": {},
   "outputs": [],
   "source": []
  }
 ],
 "metadata": {
  "kernelspec": {
   "display_name": "Python 3 (ipykernel)",
   "language": "python",
   "name": "python3"
  },
  "language_info": {
   "codemirror_mode": {
    "name": "ipython",
    "version": 3
   },
   "file_extension": ".py",
   "mimetype": "text/x-python",
   "name": "python",
   "nbconvert_exporter": "python",
   "pygments_lexer": "ipython3",
   "version": "3.10.2"
  }
 },
 "nbformat": 4,
 "nbformat_minor": 5
}
