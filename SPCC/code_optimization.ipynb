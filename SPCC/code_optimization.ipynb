{
 "cells": [
  {
   "cell_type": "markdown",
   "id": "4687cf1a",
   "metadata": {},
   "source": [
    "# Code Optimization"
   ]
  },
  {
   "cell_type": "code",
   "execution_count": 1,
   "id": "5e0be058",
   "metadata": {},
   "outputs": [
    {
     "name": "stdout",
     "output_type": "stream",
     "text": [
      "Enter the Number of Values: 5\n",
      "left: a\n",
      "right: 9\n",
      "left: b\n",
      "right: c+d\n",
      "left: e\n",
      "right: c+d\n",
      "left: f\n",
      "right: b+e\n",
      "left: r\n",
      "right: f\n",
      "Intermediate Code\n",
      "a = 9\n",
      "b = c+d\n",
      "e = c+d\n",
      "f = b+e\n",
      "r = f\n",
      "\n",
      "After Dead Code Elimination\n",
      "b = c+d\n",
      "e = c+d\n",
      "f = b+e\n",
      "r = f\n",
      "Eliminate Common Expression\n",
      "b = c+d\n",
      "b = c+d\n",
      "f = b+b\n",
      "r = f\n",
      "Optimized Code\n",
      "b = c+d\n",
      "f = b+b\n",
      "r = f\n"
     ]
    }
   ],
   "source": [
    "op = []\n",
    "pr = []\n",
    "n = int(input(\"Enter the Number of Values: \"))\n",
    "for i in range(n):\n",
    "    l = input(\"left: \")\n",
    "    r = input(\"right: \")\n",
    "    op.append({'l': l, 'r': r})\n",
    "\n",
    "print(\"Intermediate Code\")\n",
    "for i in range(n):\n",
    "    print(op[i]['l'], '=', op[i]['r'])\n",
    "\n",
    "z = 0\n",
    "for i in range(n-1):\n",
    "    temp = op[i]['l']\n",
    "    for j in range(n):\n",
    "        if temp in op[j]['r']:\n",
    "            pr.append({'l': op[i]['l'], 'r': op[i]['r']})\n",
    "            z += 1\n",
    "            break\n",
    "\n",
    "pr.append({'l': op[n-1]['l'], 'r': op[n-1]['r']})\n",
    "z += 1\n",
    "\n",
    "print(\"\\nAfter Dead Code Elimination\")\n",
    "for k in range(z):\n",
    "    print(pr[k]['l'], '=', pr[k]['r'])\n",
    "\n",
    "for m in range(z):\n",
    "    tem = pr[m]['r']\n",
    "    for j in range(m+1, z):\n",
    "        if pr[j]['r'] in tem:\n",
    "            t = pr[j]['l']\n",
    "            pr[j]['l'] = pr[m]['l']\n",
    "            for i in range(z):\n",
    "                if t in pr[i]['r']:\n",
    "                    a = pr[i]['r'].index(t)\n",
    "                    pr[i]['r'] = pr[i]['r'][:a] + pr[m]['l'] + pr[i]['r'][a+1:]\n",
    "\n",
    "print(\"Eliminate Common Expression\")\n",
    "for i in range(z):\n",
    "    print(pr[i]['l'], '=', pr[i]['r'])\n",
    "\n",
    "for i in range(z):\n",
    "    for j in range(i+1, z):\n",
    "        if pr[i]['l'] == pr[j]['l'] and pr[i]['r'] == pr[j]['r']:\n",
    "            pr[i]['l'] = '\\0'\n",
    "\n",
    "print(\"Optimized Code\")\n",
    "for i in range(z):\n",
    "    if pr[i]['l'] != '\\0':\n",
    "        print(pr[i]['l'], '=', pr[i]['r'])\n"
   ]
  },
  {
   "cell_type": "code",
   "execution_count": null,
   "id": "db095e2c",
   "metadata": {},
   "outputs": [],
   "source": []
  }
 ],
 "metadata": {
  "kernelspec": {
   "display_name": "Python 3 (ipykernel)",
   "language": "python",
   "name": "python3"
  },
  "language_info": {
   "codemirror_mode": {
    "name": "ipython",
    "version": 3
   },
   "file_extension": ".py",
   "mimetype": "text/x-python",
   "name": "python",
   "nbconvert_exporter": "python",
   "pygments_lexer": "ipython3",
   "version": "3.10.2"
  }
 },
 "nbformat": 4,
 "nbformat_minor": 5
}
