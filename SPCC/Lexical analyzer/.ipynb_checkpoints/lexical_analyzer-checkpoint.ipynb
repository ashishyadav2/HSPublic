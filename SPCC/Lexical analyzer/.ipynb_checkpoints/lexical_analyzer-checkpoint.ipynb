{
 "cells": [
  {
   "cell_type": "markdown",
   "id": "09776dcd",
   "metadata": {},
   "source": [
    "# Lexical Analyzer"
   ]
  },
  {
   "cell_type": "code",
   "execution_count": 6,
   "id": "244c921f",
   "metadata": {},
   "outputs": [
    {
     "name": "stdout",
     "output_type": "stream",
     "text": [
      "['#include<stdio.h>', 'int', 'main()', '{', 'int', 'a', '=', '2', ';', 'printf(', '\"', 'hello', 'world', '\")', ';', 'return', '0', ';', '}']\n",
      "Header File --> #include<stdio.h>\n",
      "Keyword --> int\n",
      "Built_in Function --> main()\n",
      "Separator --> {\n",
      "Keyword --> int\n",
      "Identifier -->  a\n",
      "Numerals -->  2\n",
      "Separator --> ;\n",
      "Built_in Function --> printf(\n",
      "Identifier -->  hello\n",
      "Identifier -->  world\n",
      "Separator --> ;\n",
      "Keyword --> return\n",
      "Numerals -->  0\n",
      "Separator --> ;\n",
      "Separator --> }\n"
     ]
    }
   ],
   "source": [
    "import re\n",
    "\n",
    "keyword = ['int','float','return','void']\n",
    "built_in_functions = ['clrscr()','printf(','scanf(','getch()','main()']\n",
    "operators = ['+','-','*','/','%']\n",
    "specialsymbol = ['#','$','!']\n",
    "separator = [',',':',';','\\n','\\t','{','}','(',')','[',']']\n",
    "\n",
    "file = open('lex.txt','r')\n",
    "contents = file.read()\n",
    "splitCode = contents.split() \n",
    "print(splitCode)\n",
    "length = len(splitCode)\n",
    "      \n",
    "for i in range(length):\n",
    "    if splitCode[i] in keyword:\n",
    "        print(\"Keyword -->\",splitCode[i])\n",
    "        continue\n",
    "    if splitCode[i] in operators:\n",
    "        print(\"Operators --> \",splitCode[i])\n",
    "        continue\n",
    "    if splitCode[i] in specialsymbol:\n",
    "        print(\"Special Operator -->\",splitCode[i])\n",
    "        continue\n",
    "    if splitCode[i] in built_in_functions:\n",
    "        print(\"Built_in Function -->\",splitCode[i])\n",
    "        continue\n",
    "    if splitCode[i] in separator:\n",
    "        print(\"Separator -->\",splitCode[i])\n",
    "        continue\n",
    "    if re.match(r'(#include*).*', splitCode[i]):\n",
    "        print (\"Header File -->\", splitCode[i])\n",
    "        continue\n",
    "    if re.match(r'^[-+]?[0-9]+$',splitCode[i]):\n",
    "        print(\"Numerals --> \",splitCode[i])\n",
    "        continue\n",
    "    if re.match(r\"^[^\\d\\W]\\w*\\Z\", splitCode[i]):\n",
    "        print(\"Identifier --> \",splitCode[i])\n",
    "        \n",
    "        "
   ]
  },
  {
   "cell_type": "markdown",
   "id": "2ce30352",
   "metadata": {},
   "source": [
    "# Practice"
   ]
  },
  {
   "cell_type": "code",
   "execution_count": 29,
   "id": "1599959b",
   "metadata": {},
   "outputs": [
    {
     "name": "stdout",
     "output_type": "stream",
     "text": [
      "Header file -->  #include<stdio.h>\n",
      "Header file -->  #include<conio.h>\n",
      "Keyword -->  int\n",
      "Function -->  main()\n",
      "Separator -->  {\n",
      "Keyword -->  int\n",
      "Identifier -->  a\n",
      "Separator -->  ;\n",
      "Identifier -->  a\n",
      "Operator -->  =\n",
      "Numral -->  95\n",
      "Separator -->  ;\n",
      "Function -->  printf(\n",
      "Separator -->  ;\n",
      "Keyword -->  return\n",
      "Numral -->  0\n",
      "Separator -->  ;\n",
      "Separator -->  }\n"
     ]
    }
   ],
   "source": [
    "keywords = [\"int\",\"return\",\"void\",\"float\"]\n",
    "operators = [\"/\",\"-\",\"*\",\"+\",\"=\"]\n",
    "separators = [\":\",\",\",\"{\",\"}\",\"[\",\"]\",\"(\",\")\",\";\"]\n",
    "functions = [\"main()\",\"printf(\",\"clrscr()\",\"scanf(\"]\n",
    "\n",
    "file = open('input.txt','r')\n",
    "txt = file.read().split()\n",
    "for word in txt:\n",
    "    if word in keywords:\n",
    "        print(\"Keyword --> \",word)\n",
    "        continue\n",
    "    if word in operators:\n",
    "        print(\"Operator --> \",word)\n",
    "        continue\n",
    "    if word in separators:\n",
    "        print(\"Separator --> \",word)\n",
    "        continue\n",
    "    if word in functions:\n",
    "        print(\"Function --> \",word)\n",
    "        continue\n",
    "    if re.match(r\"^[-+]?[0-9]+$\",word):\n",
    "        print(\"Numral --> \",word)\n",
    "        continue\n",
    "    if re.match(r'(#include*).*',word):\n",
    "        print(\"Header file --> \",word)\n",
    "        continue\n",
    "    if re.match(r\"^[^\\d\\W]\\w*\\Z\",word):\n",
    "        print(\"Identifier --> \",word)\n",
    "        continue"
   ]
  },
  {
   "cell_type": "code",
   "execution_count": null,
   "id": "b1cc84cb",
   "metadata": {},
   "outputs": [],
   "source": []
  }
 ],
 "metadata": {
  "kernelspec": {
   "display_name": "Python 3 (ipykernel)",
   "language": "python",
   "name": "python3"
  },
  "language_info": {
   "codemirror_mode": {
    "name": "ipython",
    "version": 3
   },
   "file_extension": ".py",
   "mimetype": "text/x-python",
   "name": "python",
   "nbconvert_exporter": "python",
   "pygments_lexer": "ipython3",
   "version": "3.10.2"
  }
 },
 "nbformat": 4,
 "nbformat_minor": 5
}
