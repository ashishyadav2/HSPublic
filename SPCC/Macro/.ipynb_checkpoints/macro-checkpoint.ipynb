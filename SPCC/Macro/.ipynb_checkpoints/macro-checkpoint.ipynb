{
 "cells": [
  {
   "cell_type": "markdown",
   "id": "d3160260",
   "metadata": {},
   "source": [
    "# Macro Expansion Program"
   ]
  },
  {
   "cell_type": "code",
   "execution_count": 7,
   "id": "040f61ec",
   "metadata": {},
   "outputs": [],
   "source": [
    "import re\n",
    "\n",
    "file = open(\"input.txt\", \"r\")\n",
    "txt = file.read()\n",
    "file.close()\n",
    "\n",
    "name_pattern = r\"#(.*?)#\"\n",
    "body_pattern = r\"{(.*?)}\"\n",
    "\n",
    "name = re.findall(name_pattern,txt)[0]\n",
    "body = re.findall(body_pattern,txt, flags=re.DOTALL)[0]\n",
    "final_pattern = r\":{}:\".format(name.strip())\n",
    "final = re.sub(final_pattern,body,txt)\n",
    "\n",
    "out = open(\"output.txt\",\"w\")\n",
    "out.write(final)\n",
    "out.close()\n"
   ]
  },
  {
   "cell_type": "markdown",
   "id": "0865e997",
   "metadata": {},
   "source": [
    "# Practice"
   ]
  },
  {
   "cell_type": "code",
   "execution_count": 11,
   "id": "9cc41af5",
   "metadata": {},
   "outputs": [],
   "source": [
    "import re\n",
    "file = open(\"input.txt\",\"r\")\n",
    "txt = file.read()\n",
    "file.close()\n",
    "\n",
    "name =  re.findall(r\"#(.*?)#\",txt)[0]\n",
    "body = re.findall(r\"{(.*?)}\",txt,flags = re.DOTALL)[0]\n",
    "final = re.sub(r\":{}:\".format(name.strip()),body,txt)\n",
    "\n",
    "out = open(\"output.txt\",\"w\")\n",
    "out.write(final)\n",
    "out.close()"
   ]
  },
  {
   "cell_type": "code",
   "execution_count": null,
   "id": "67e4fc40",
   "metadata": {},
   "outputs": [],
   "source": []
  }
 ],
 "metadata": {
  "kernelspec": {
   "display_name": "Python 3 (ipykernel)",
   "language": "python",
   "name": "python3"
  },
  "language_info": {
   "codemirror_mode": {
    "name": "ipython",
    "version": 3
   },
   "file_extension": ".py",
   "mimetype": "text/x-python",
   "name": "python",
   "nbconvert_exporter": "python",
   "pygments_lexer": "ipython3",
   "version": "3.10.2"
  }
 },
 "nbformat": 4,
 "nbformat_minor": 5
}
