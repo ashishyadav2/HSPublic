{
 "cells": [
  {
   "cell_type": "markdown",
   "id": "1eea0edd",
   "metadata": {},
   "source": [
    "# Intermediate Code Generation"
   ]
  },
  {
   "cell_type": "code",
   "execution_count": 10,
   "id": "d3c6ef72",
   "metadata": {},
   "outputs": [
    {
     "name": "stdout",
     "output_type": "stream",
     "text": [
      "t1 = a + b\n",
      "t2 = c * d\n",
      "t3 = t1 / t2\n"
     ]
    }
   ],
   "source": [
    "class Node:\n",
    "    def __init__(self, val, left=None, right=None):\n",
    "        self.val = val\n",
    "        self.left = left\n",
    "        self.right = right\n",
    "        self.temp = None\n",
    "        \n",
    "def gen_code(root):\n",
    "    global temp_count\n",
    "    if root.val in ['+', '-', '*', '/']:\n",
    "        gen_code(root.left)\n",
    "        gen_code(root.right)\n",
    "        root.temp = 't' + str(temp_count)\n",
    "        print(root.temp + ' = ' + str(root.left.temp) + ' ' + root.val + ' ' + str(root.right.temp))\n",
    "        temp_count += 1\n",
    "    else:\n",
    "        root.temp = root.val\n",
    "\n",
    "# Example expression: (a+b)/(c*d)\n",
    "root = Node(\"/\")\n",
    "root.left=Node(\"+\")\n",
    "root.right=Node(\"*\")\n",
    "root.left.left=Node(\"a\")\n",
    "root.left.right=Node(\"b\")\n",
    "root.right.left=Node(\"c\")\n",
    "root.right.right=Node(\"d\")\n",
    "\n",
    "temp_count = 1\n",
    "\n",
    "gen_code(root)\n"
   ]
  },
  {
   "cell_type": "markdown",
   "id": "d190a4ad",
   "metadata": {},
   "source": [
    "# Practice"
   ]
  },
  {
   "cell_type": "code",
   "execution_count": 4,
   "id": "d73f4e3d",
   "metadata": {},
   "outputs": [
    {
     "name": "stdout",
     "output_type": "stream",
     "text": [
      "t1 = a + b\n",
      "t2 = c * d\n",
      "t3 = t1 / t2\n"
     ]
    }
   ],
   "source": [
    "#It is a node class. it will have val i.e +, *, a, b etc and left and right child\n",
    "# temp to store temparory value i.e t1, t2 etc\n",
    "class Node:\n",
    "    def __init__(self,val,left=None,right=None):\n",
    "        self.val = val\n",
    "        self.left = left\n",
    "        self.right = right\n",
    "        self.temp = None\n",
    "        \n",
    "# function to generate intermediate code\n",
    "def gen_code(root):\n",
    "    global temp_count # it is global variable to be accessed from anywhere\n",
    "    if root.val in ['/','*','-','+']: # if root.val i.e it can be anything /, * , -, +   \n",
    "        #if we have any operator it means that there is one level below that it is obvious operators cannot be at lowest level\n",
    "        # of a tree\n",
    "        gen_code(root.left) # to go in the left side of current root\n",
    "        gen_code(root.right) # to go in the right side of current root\n",
    "        root.temp = \"t\" + str(temp_count) # current root's temp value is updated t + temp_count i.e t1, t2 etc\n",
    "        # printing that 3AC result = operand operator operand\n",
    "        print(\"{} = {} {} {}\".format(root.temp,root.left.temp,root.val,root.right.temp)) \n",
    "        #increment temp_count value\n",
    "        temp_count += 1\n",
    "    else: # if have not encountered operators that means we nothing below that level\n",
    "        root.temp = root.val # store that val in temp variable\n",
    "    \n",
    "# (a+b)/(c*d)\n",
    "# make parse tree for example to understand better\n",
    "#             /\n",
    "#     +              *\n",
    "# a       b      c        d\n",
    "root = Node('/') \n",
    "root.left = Node('+') # + is left of /\n",
    "root.right = Node('*') # * is right of /\n",
    "\n",
    "root.left.left = Node('a') # a is left of left of /\n",
    "root.left.right = Node('b') # b is right of left of /\n",
    "\n",
    "root.right.left = Node('c') # c is left of right of /\n",
    "root.right.right = Node('d') # d is right of right of /\n",
    "temp_count = 1 # to make t1. here 1 is that number\n",
    "gen_code(root) # calling function"
   ]
  },
  {
   "cell_type": "code",
   "execution_count": null,
   "id": "3d31db85",
   "metadata": {},
   "outputs": [],
   "source": []
  }
 ],
 "metadata": {
  "kernelspec": {
   "display_name": "Python 3 (ipykernel)",
   "language": "python",
   "name": "python3"
  },
  "language_info": {
   "codemirror_mode": {
    "name": "ipython",
    "version": 3
   },
   "file_extension": ".py",
   "mimetype": "text/x-python",
   "name": "python",
   "nbconvert_exporter": "python",
   "pygments_lexer": "ipython3",
   "version": "3.10.2"
  }
 },
 "nbformat": 4,
 "nbformat_minor": 5
}
