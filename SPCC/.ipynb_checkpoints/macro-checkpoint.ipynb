{
 "cells": [
  {
   "cell_type": "markdown",
   "id": "d3160260",
   "metadata": {},
   "source": [
    "# Macro Expansion Program"
   ]
  },
  {
   "cell_type": "code",
   "execution_count": 45,
   "id": "040f61ec",
   "metadata": {},
   "outputs": [],
   "source": [
    "import re\n",
    "\n",
    "file = open(\"input.txt\", \"r\")\n",
    "txt = file.read()\n",
    "file.close()\n",
    "\n",
    "name_pattern = r\"#(.*?)#\"\n",
    "body_pattern = r\"{(.*?)}\"\n",
    "\n",
    "name = re.findall(name_pattern,txt)[0]\n",
    "body = re.findall(body_pattern,txt, flags=re.DOTALL)[0]\n",
    "final_pattern = r\":{}:\".format(name.strip())\n",
    "final = re.sub(final_pattern,body,txt)\n",
    "\n",
    "out = open(\"output.txt\",\"w\")\n",
    "out.write(final)\n",
    "out.close()\n"
   ]
  },
  {
   "cell_type": "markdown",
   "id": "929e44d0",
   "metadata": {},
   "source": [
    "# Practice"
   ]
  },
  {
   "cell_type": "code",
   "execution_count": 47,
   "id": "bc81eb5c",
   "metadata": {},
   "outputs": [],
   "source": [
    "import re\n",
    "input_file = open(\"input_file.txt\",\"r\")\n",
    "txt = input_file.read()\n",
    "input_file.close()\n",
    "\n",
    "n_pat = r\"#(.*?)#\"\n",
    "b_pat = r\"{(.*?)}\"\n",
    "name = re.findall(n_pat,txt)[0]\n",
    "body = re.findall(b_pat,txt,flags=re.DOTALL)[0]\n",
    "f_pat = r\":{}:\".format(name.strip())\n",
    "final = re.sub(f_pat,body,txt)\n",
    "\n",
    "out_file = open(\"output_file.txt\",\"w\")\n",
    "out_file.write(final)\n",
    "out_file.close()"
   ]
  },
  {
   "cell_type": "code",
   "execution_count": null,
   "id": "7fde302b",
   "metadata": {},
   "outputs": [],
   "source": []
  }
 ],
 "metadata": {
  "kernelspec": {
   "display_name": "Python 3 (ipykernel)",
   "language": "python",
   "name": "python3"
  },
  "language_info": {
   "codemirror_mode": {
    "name": "ipython",
    "version": 3
   },
   "file_extension": ".py",
   "mimetype": "text/x-python",
   "name": "python",
   "nbconvert_exporter": "python",
   "pygments_lexer": "ipython3",
   "version": "3.10.2"
  }
 },
 "nbformat": 4,
 "nbformat_minor": 5
}
